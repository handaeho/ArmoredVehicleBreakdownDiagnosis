{
 "cells": [
  {
   "cell_type": "code",
   "execution_count": 1,
   "metadata": {},
   "outputs": [],
   "source": [
    "import os\n",
    "import pandas as pd\n",
    "import matplotlib.pyplot as plt\n",
    "import numpy as np\n",
    "\n",
    "os.chdir('/home/aiteam/daeho/ArmoredVehicleBreakdownDiagnosis')"
   ]
  },
  {
   "cell_type": "code",
   "execution_count": 2,
   "metadata": {},
   "outputs": [],
   "source": [
    "groupBy_path = 'sensor_data/220110_sensor_data/groupBy_data/'\n",
    "\n",
    "parquet_path = 'sensor_data/220110_sensor_data/parquet_data/'\n",
    "\n",
    "parquet_file_name_2020 = 'periodic_data_2020_edited.parquet'\n",
    "parquet_file_name_2021 = 'periodic_data_2021_edited.parquet'"
   ]
  },
  {
   "cell_type": "code",
   "execution_count": 3,
   "metadata": {},
   "outputs": [],
   "source": [
    "# read\n",
    "df_2020_edit = pd.read_parquet(parquet_path + parquet_file_name_2020)\n",
    "df_2021_edit = pd.read_parquet(parquet_path + parquet_file_name_2021)\n",
    "\n",
    "# print(df_2020_edit)\n",
    "# print(df_2021_edit)\n",
    "\n",
    "# 2020\n",
    "day_2020 = df_2020_edit['coolingFanCoolantTemperature'].groupby(df_2020_edit['day'])\n",
    "month_2020 = df_2020_edit['coolingFanCoolantTemperature'].groupby(df_2020_edit['month'])\n",
    "year_2020 = df_2020_edit['coolingFanCoolantTemperature'].groupby(df_2020_edit['year'])\n",
    "\n",
    "# 2021\n",
    "day_2021 = df_2021_edit['coolingFanCoolantTemperature'].groupby(df_2021_edit['day'])\n",
    "month_2021 = df_2021_edit['coolingFanCoolantTemperature'].groupby(df_2021_edit['month'])\n",
    "year_2021 = df_2021_edit['coolingFanCoolantTemperature'].groupby(df_2021_edit['year'])"
   ]
  },
  {
   "cell_type": "code",
   "execution_count": 4,
   "metadata": {},
   "outputs": [],
   "source": [
    "# 평균값\n",
    "day_mean_2020 = pd.DataFrame(day_2020.mean())\n",
    "month_mean_2020 = pd.DataFrame(month_2020.mean())\n",
    "year_mean_2020 = pd.DataFrame(year_2020.mean())\n",
    "\n",
    "day_mean_2021 = pd.DataFrame(day_2021.mean())\n",
    "month_mean_2021 = pd.DataFrame(month_2021.mean())\n",
    "year_mean_2021 = pd.DataFrame(year_2021.mean())"
   ]
  },
  {
   "cell_type": "code",
   "execution_count": 5,
   "metadata": {},
   "outputs": [],
   "source": [
    "# 일별 평균\n",
    "df_day_mean = pd.concat([day_mean_2020, day_mean_2021], axis=1).sort_index()\n",
    "\n",
    "# 월별 평균\n",
    "df_month_mean = pd.concat([month_mean_2020, month_mean_2021], axis=1).sort_index()\n",
    "\n",
    "# 연도별 평균\n",
    "df_year_mean = pd.concat([year_mean_2020, year_mean_2021], axis=1).sort_index()"
   ]
  },
  {
   "cell_type": "code",
   "execution_count": 6,
   "metadata": {},
   "outputs": [],
   "source": [
    "df_day_mean.columns = ['2020_coolingFanCoolantTemperature', '2021_coolingFanCoolantTemperature']\n",
    "df_month_mean.columns = ['2020_coolingFanCoolantTemperature', '2021_coolingFanCoolantTemperature']\n",
    "df_year_mean.columns = ['2020_coolingFanCoolantTemperature', '2021_coolingFanCoolantTemperature']"
   ]
  },
  {
   "cell_type": "code",
   "execution_count": 7,
   "metadata": {},
   "outputs": [],
   "source": [
    "df_day_mean.to_csv(groupBy_path + 'day/' + 'df_coolingFanCoolantTemperature_day_mean.csv', index=True, encoding='CP949')\n",
    "df_month_mean.to_csv(groupBy_path + 'month/' + 'df_coolingFanCoolantTemperature_month_mean.csv', index=True, encoding='CP949')\n",
    "df_year_mean.to_csv(groupBy_path + 'year/' + 'df_coolingFanCoolantTemperature_year_mean.csv', index=True, encoding='CP949')"
   ]
  },
  {
   "cell_type": "code",
   "execution_count": null,
   "metadata": {},
   "outputs": [],
   "source": []
  }
 ],
 "metadata": {
  "kernelspec": {
   "display_name": "Python 3",
   "language": "python",
   "name": "python3"
  },
  "language_info": {
   "codemirror_mode": {
    "name": "ipython",
    "version": 3
   },
   "file_extension": ".py",
   "mimetype": "text/x-python",
   "name": "python",
   "nbconvert_exporter": "python",
   "pygments_lexer": "ipython3",
   "version": "3.6.8"
  }
 },
 "nbformat": 4,
 "nbformat_minor": 2
}
