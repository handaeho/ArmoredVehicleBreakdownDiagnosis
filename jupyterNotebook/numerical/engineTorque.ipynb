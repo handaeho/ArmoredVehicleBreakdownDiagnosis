{
 "cells": [
  {
   "cell_type": "code",
   "execution_count": 1,
   "metadata": {
    "collapsed": true
   },
   "outputs": [],
   "source": [
    "import os\n",
    "import pandas as pd\n",
    "import matplotlib.pyplot as plt\n",
    "import numpy as np"
   ]
  },
  {
   "cell_type": "code",
   "execution_count": 2,
   "outputs": [
    {
     "name": "stdout",
     "output_type": "stream",
     "text": [
      "/home/aiteam\n",
      "['.mozilla', '.bash_logout', '.bash_profile', '.bashrc', '.kshrc', '.cache', '.config', '.local', '.bash_history', '.jupyter', '.ipython', 'nohup.out', '.ipynb_checkpoints', 'son', 'daeho', '.pycharm_helpers', '.keras', 'Apps', '.pki', '.python_history', '.conda', 'nltk_data', '.viminfo', '.netrc', '.Xauthority', 'sera']\n"
     ]
    }
   ],
   "source": [
    "print(os.getcwd())\n",
    "print(os.listdir())"
   ],
   "metadata": {
    "collapsed": false,
    "pycharm": {
     "name": "#%%\n"
    }
   }
  },
  {
   "cell_type": "code",
   "execution_count": 3,
   "outputs": [],
   "source": [
    "os.chdir('/home/aiteam/daeho/ArmoredVehicleBreakdownDiagnosis')"
   ],
   "metadata": {
    "collapsed": false,
    "pycharm": {
     "name": "#%%\n"
    }
   }
  },
  {
   "cell_type": "code",
   "execution_count": 4,
   "outputs": [],
   "source": [
    "parquet_path = 'sensor_data/220110_sensor_data/parquet_data/'\n",
    "\n",
    "parquet_file_name_2020 = 'periodic_data_2020_edited.parquet'\n",
    "parquet_file_name_2021 = 'periodic_data_2021_edited.parquet'"
   ],
   "metadata": {
    "collapsed": false,
    "pycharm": {
     "name": "#%%\n"
    }
   }
  },
  {
   "cell_type": "code",
   "execution_count": 5,
   "outputs": [],
   "source": [
    "# read\n",
    "df_2020_edit = pd.read_parquet(parquet_path + parquet_file_name_2020)\n",
    "df_2021_edit = pd.read_parquet(parquet_path + parquet_file_name_2021)\n",
    "\n",
    "# print(df_2020_edit)\n",
    "# print(df_2021_edit)"
   ],
   "metadata": {
    "collapsed": false,
    "pycharm": {
     "name": "#%%\n"
    }
   }
  },
  {
   "cell_type": "code",
   "execution_count": 6,
   "outputs": [],
   "source": [
    "# 2020\n",
    "engineTorque_day_2020 = df_2020_edit['engineTorque'].groupby(df_2020_edit['day'])\n",
    "engineTorque_month_2020 = df_2020_edit['engineTorque'].groupby(df_2020_edit['month'])\n",
    "engineTorque_year_2020 = df_2020_edit['engineTorque'].groupby(df_2020_edit['year'])\n",
    "\n",
    "# 2021\n",
    "engineTorque_day_2021 = df_2021_edit['engineTorque'].groupby(df_2021_edit['day'])\n",
    "engineTorque_month_2021 = df_2021_edit['engineTorque'].groupby(df_2021_edit['month'])\n",
    "engineTorque_year_2021 = df_2021_edit['engineTorque'].groupby(df_2021_edit['year'])"
   ],
   "metadata": {
    "collapsed": false,
    "pycharm": {
     "name": "#%%\n"
    }
   }
  },
  {
   "cell_type": "code",
   "execution_count": 7,
   "outputs": [],
   "source": [
    "# 평균값\n",
    "engineTorque_day_mean_2020 = pd.DataFrame(engineTorque_day_2020.mean())\n",
    "engineTorque_month_mean_2020 = pd.DataFrame(engineTorque_month_2020.mean())\n",
    "engineTorque_year_mean_2020 = pd.DataFrame(engineTorque_year_2020.mean())\n",
    "\n",
    "engineTorque_day_mean_2021 = pd.DataFrame(engineTorque_day_2021.mean())\n",
    "engineTorque_month_mean_2021 = pd.DataFrame(engineTorque_month_2021.mean())\n",
    "engineTorque_year_mean_2021 = pd.DataFrame(engineTorque_year_2021.mean())"
   ],
   "metadata": {
    "collapsed": false,
    "pycharm": {
     "name": "#%%\n"
    }
   }
  },
  {
   "cell_type": "code",
   "execution_count": 8,
   "outputs": [],
   "source": [
    "# 일별 평균\n",
    "df_engineTorque_day_mean = pd.concat([engineTorque_day_mean_2020, engineTorque_day_mean_2021], axis=1).sort_index()\n",
    "\n",
    "# 월별 평균\n",
    "df_engineTorque_month_mean = pd.concat([engineTorque_month_mean_2020, engineTorque_month_mean_2021], axis=1).sort_index()\n",
    "\n",
    "# 연도별 평균\n",
    "df_engineTorque_year_mean = pd.concat([engineTorque_year_mean_2020, engineTorque_year_mean_2021], axis=1).sort_index()"
   ],
   "metadata": {
    "collapsed": false,
    "pycharm": {
     "name": "#%%\n"
    }
   }
  },
  {
   "cell_type": "code",
   "execution_count": 9,
   "outputs": [],
   "source": [
    "df_engineTorque_day_mean.columns = ['2020_engineTorque', '2021_engineTorque']\n",
    "df_engineTorque_month_mean.columns = ['2020_engineTorque', '2021_engineTorque']\n",
    "df_engineTorque_year_mean.columns = ['2020_engineTorque', '2021_engineTorque']"
   ],
   "metadata": {
    "collapsed": false,
    "pycharm": {
     "name": "#%%\n"
    }
   }
  },
  {
   "cell_type": "code",
   "execution_count": 10,
   "outputs": [],
   "source": [
    "groupBy_path = 'sensor_data/220110_sensor_data/groupBy_data/'"
   ],
   "metadata": {
    "collapsed": false,
    "pycharm": {
     "name": "#%%\n"
    }
   }
  },
  {
   "cell_type": "code",
   "execution_count": 12,
   "outputs": [],
   "source": [
    "df_engineTorque_day_mean.to_csv(groupBy_path + 'day/' + 'df_engineTorque_day_mean.csv', index=True, encoding='CP949')\n",
    "df_engineTorque_month_mean.to_csv(groupBy_path + 'month/' + 'df_engineTorque_month_mean.csv', index=True, encoding='CP949')\n",
    "df_engineTorque_year_mean.to_csv(groupBy_path + 'year/' + 'df_engineTorque_year_mean.csv', index=True, encoding='CP949')"
   ],
   "metadata": {
    "collapsed": false,
    "pycharm": {
     "name": "#%%\n"
    }
   }
  }
 ],
 "metadata": {
  "kernelspec": {
   "display_name": "Python 3",
   "language": "python",
   "name": "python3"
  },
  "language_info": {
   "codemirror_mode": {
    "name": "ipython",
    "version": 2
   },
   "file_extension": ".py",
   "mimetype": "text/x-python",
   "name": "python",
   "nbconvert_exporter": "python",
   "pygments_lexer": "ipython2",
   "version": "2.7.6"
  }
 },
 "nbformat": 4,
 "nbformat_minor": 0
}