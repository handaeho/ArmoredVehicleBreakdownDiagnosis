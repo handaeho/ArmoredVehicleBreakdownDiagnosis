{
 "cells": [
  {
   "cell_type": "code",
   "execution_count": 15,
   "metadata": {
    "collapsed": true
   },
   "outputs": [],
   "source": [
    "import os\n",
    "import pandas as pd"
   ]
  },
  {
   "cell_type": "code",
   "execution_count": 16,
   "outputs": [
    {
     "name": "stdout",
     "output_type": "stream",
     "text": [
      "/home/aiteam/daeho/ArmoredVehicleBreakdownDiagnosis\n",
      "['.ipynb_checkpoints', 'sensor_data', 'concat_data.py', 'convert_dat_to_csv.py', 'venv', 'charting.py', 'convert_csv_parquet.py', 'jupyterNotebook']\n"
     ]
    }
   ],
   "source": [
    "os.chdir('/home/aiteam/daeho/ArmoredVehicleBreakdownDiagnosis')\n",
    "print(os.getcwd())\n",
    "print(os.listdir())"
   ],
   "metadata": {
    "collapsed": false,
    "pycharm": {
     "name": "#%%\n"
    }
   }
  },
  {
   "cell_type": "code",
   "execution_count": 17,
   "outputs": [],
   "source": [
    "parquet_path = 'sensor_data/220110_sensor_data/parquet_data/'\n",
    "\n",
    "parquet_file_name_2020 = 'event_data_2020.parquet'\n",
    "parquet_file_name_2021 = 'event_data_2021.parquet'\n",
    "parquet_file_name_2022 = 'event_data_2022.parquet'"
   ],
   "metadata": {
    "collapsed": false,
    "pycharm": {
     "name": "#%%\n"
    }
   }
  },
  {
   "cell_type": "code",
   "execution_count": 18,
   "outputs": [],
   "source": [
    "# read\n",
    "df_2020 = pd.read_parquet(parquet_path + parquet_file_name_2020)\n",
    "df_2021 = pd.read_parquet(parquet_path + parquet_file_name_2021)\n",
    "df_2022 = pd.read_parquet(parquet_path + parquet_file_name_2022)"
   ],
   "metadata": {
    "collapsed": false,
    "pycharm": {
     "name": "#%%\n"
    }
   }
  },
  {
   "cell_type": "code",
   "execution_count": 19,
   "outputs": [],
   "source": [
    "# month\n",
    "month_2020 = df_2020.operationDate.str.split('-').str[1]\n",
    "month_2021 = df_2021.operationDate.str.split('-').str[1]\n",
    "month_2022 = df_2022.operationDate.str.split('-').str[1]\n",
    "# day\n",
    "day_2020 = df_2020.operationDate.str.split('-').str[2]\n",
    "day_2021 = df_2021.operationDate.str.split('-').str[2]\n",
    "day_2022 = df_2022.operationDate.str.split('-').str[2]\n",
    "\n",
    "df_2020.insert(loc=1, column='month', value=month_2020)\n",
    "df_2021.insert(loc=1, column='month', value=month_2021)\n",
    "df_2022.insert(loc=1, column='month', value=month_2022)\n",
    "\n",
    "df_2020.insert(loc=2, column='day', value=day_2020)\n",
    "df_2021.insert(loc=2, column='day', value=day_2021)\n",
    "df_2022.insert(loc=2, column='day', value=day_2022)"
   ],
   "metadata": {
    "collapsed": false,
    "pycharm": {
     "name": "#%%\n"
    }
   }
  },
  {
   "cell_type": "code",
   "execution_count": 20,
   "outputs": [
    {
     "name": "stdout",
     "output_type": "stream",
     "text": [
      "        year month day   carId operationDate operationTime  \\\n",
      "0       2020    00  02  SDA026      20-00-02      09:10:03   \n",
      "1       2020    00  02  SDA026      20-00-02      09:10:03   \n",
      "2       2020    00  02  SDA026      20-00-02      09:10:03   \n",
      "3       2020    00  02  SDA026      20-00-02      09:10:03   \n",
      "4       2020    00  02  SDA026      20-00-02      09:10:03   \n",
      "...      ...   ...  ..     ...           ...           ...   \n",
      "201989  2020    12  31  SDA026      20-12-31      14:04:15   \n",
      "201990  2020    12  31  SDA026      20-12-31      14:04:15   \n",
      "201991  2020    12  31  SDA026      20-12-31      14:04:15   \n",
      "201992  2020    12  31  SDA026      20-12-31      14:04:15   \n",
      "201993  2020    12  31  SDA026      20-12-31      14:04:15   \n",
      "\n",
      "           operationTotalTime  time  code  \\\n",
      "0       20-00-02 09:10:03:007   0.0  HB46   \n",
      "1       20-00-02 09:10:03:007   0.0  HB37   \n",
      "2       20-00-02 09:10:03:007   0.0  HB26   \n",
      "3       20-00-02 09:10:03:007   0.0  HB25   \n",
      "4       20-00-02 09:10:03:007   0.0  HB24   \n",
      "...                       ...   ...   ...   \n",
      "201989  20-12-31 14:04:15:411  14.4   HC6   \n",
      "201990  20-12-31 14:04:15:411  14.4   HC5   \n",
      "201991  20-12-31 14:04:15:411  14.4   HC4   \n",
      "201992  20-12-31 14:04:15:411  14.4   HC3   \n",
      "201993  20-12-31 14:04:15:411  14.4   HC7   \n",
      "\n",
      "                                                  message                state  \n",
      "0       b'\\xb0\\xfa\\xba\\xce\\xc7\\xcf\\xc2\\xf7\\xb4\\xdc-\\xc...  b'\\xc1\\xa4\\xbb\\xf3'  \n",
      "1            b'\\xbd\\xc7\\xb3\\xbb\\xb5\\xee \\xc0\\xfc\\xbf\\xf8'                b'On'  \n",
      "2       b'\\xb5\\xbf\\xb7\\xc2\\xc0\\xfc\\xb4\\xde\\xc1\\xa6\\xbe...                b'On'  \n",
      "3       b'\\xc2\\xf7\\xc3\\xbc\\xc1\\xa6\\xbe\\xee\\xc0\\xfc\\xbd...                b'On'  \n",
      "4       b'\\xbc\\xf6\\xbb\\xf3\\xc3\\xdf\\xc1\\xf8\\xc1\\xb6\\xc1...                b'On'  \n",
      "...                                                   ...                  ...  \n",
      "201989  b'\\xb0\\xe6\\xb0\\xed\\xc0\\xbd\\xc2\\xf7\\xb4\\xdc(\\xb...               b'Off'  \n",
      "201990  b'\\xb0\\xe6\\xb0\\xed\\xc0\\xbd\\xc2\\xf7\\xb4\\xdc(\\xc...                b'On'  \n",
      "201991  b'\\xb0\\xe6\\xb0\\xed\\xc0\\xbd\\xc2\\xf7\\xb4\\xdc(\\xc...                b'On'  \n",
      "201992  b'\\xb0\\xe6\\xb0\\xed\\xc0\\xbd\\xc2\\xf7\\xb4\\xdc(\\xc...                b'On'  \n",
      "201993  b'\\xba\\xce\\xc0\\xfa\\xc0\\xbd \\xc3\\xe2\\xb7\\xc2\\xc...                  b''  \n",
      "\n",
      "[201994 rows x 11 columns]\n"
     ]
    }
   ],
   "source": [
    "print(df_2020)"
   ],
   "metadata": {
    "collapsed": false,
    "pycharm": {
     "name": "#%%\n"
    }
   }
  },
  {
   "cell_type": "code",
   "execution_count": 21,
   "outputs": [
    {
     "name": "stdout",
     "output_type": "stream",
     "text": [
      "       year month day   carId operationDate operationTime  \\\n",
      "0      2021    12  01  SDA026      21-12-01      08:36:09   \n",
      "1      2021    12  01  SDA026      21-12-01      08:36:09   \n",
      "2      2021    12  01  SDA026      21-12-01      08:36:09   \n",
      "3      2021    12  01  SDA026      21-12-01      08:36:09   \n",
      "4      2021    12  01  SDA026      21-12-01      08:36:09   \n",
      "...     ...   ...  ..     ...           ...           ...   \n",
      "43589  2021    12  31  SDA026      21-12-31      09:08:08   \n",
      "43590  2021    12  31  SDA026      21-12-31      09:08:22   \n",
      "43591  2021    12  31  SDA026      21-12-31      09:08:23   \n",
      "43592  2021    12  31  SDA026      21-12-31      09:09:21   \n",
      "43593  2021    12  31  SDA026      21-12-31      09:09:42   \n",
      "\n",
      "          operationTotalTime    time  code  \\\n",
      "0      21-12-01 08:36:09:017    0.00  HB46   \n",
      "1      21-12-01 08:36:09:017    0.00  HB37   \n",
      "2      21-12-01 08:36:09:017    0.00  HB26   \n",
      "3      21-12-01 08:36:09:017    0.00  HB25   \n",
      "4      21-12-01 08:36:09:017    0.00  HB24   \n",
      "...                      ...     ...   ...   \n",
      "43589  21-12-31 09:08:08:174   81.15   HC7   \n",
      "43590  21-12-31 09:08:22:798   95.78   BW4   \n",
      "43591  21-12-31 09:08:23:564   96.54   BW3   \n",
      "43592  21-12-31 09:09:21:331  154.31  HB23   \n",
      "43593  21-12-31 09:09:42:995  175.97  HB45   \n",
      "\n",
      "                                                 message                state  \n",
      "0      b'\\xb0\\xfa\\xba\\xce\\xc7\\xcf\\xc2\\xf7\\xb4\\xdc-\\xc...  b'\\xc1\\xa4\\xbb\\xf3'  \n",
      "1           b'\\xbd\\xc7\\xb3\\xbb\\xb5\\xee \\xc0\\xfc\\xbf\\xf8'                b'On'  \n",
      "2      b'\\xb5\\xbf\\xb7\\xc2\\xc0\\xfc\\xb4\\xde\\xc1\\xa6\\xbe...                b'On'  \n",
      "3      b'\\xc2\\xf7\\xc3\\xbc\\xc1\\xa6\\xbe\\xee\\xc0\\xfc\\xbd...                b'On'  \n",
      "4      b'\\xbc\\xf6\\xbb\\xf3\\xc3\\xdf\\xc1\\xf8\\xc1\\xb6\\xc1...                b'On'  \n",
      "...                                                  ...                  ...  \n",
      "43589  b'\\xba\\xce\\xc0\\xfa\\xc0\\xbd \\xc3\\xe2\\xb7\\xc2\\xc...                  b''  \n",
      "43590  b'\\xc8\\xc4\\xb9\\xe6 \\xc1\\xa6\\xb5\\xbf\\xb0\\xf8\\xb...  b'\\xc7\\xd8\\xc1\\xa6'  \n",
      "43591  b'\\xc0\\xfc\\xb9\\xe6 \\xc1\\xa6\\xb5\\xbf\\xb0\\xf8\\xb...  b'\\xc7\\xd8\\xc1\\xa6'  \n",
      "43592  b'\\xc0\\xfc\\xbe\\xd0\\xc1\\xb6\\xc1\\xa4\\xb1\\xe2 \\xc...               b'Off'  \n",
      "43593  b'\\xc3\\xbc\\xb0\\xe8\\xbd\\xc3\\xbd\\xba\\xc5\\xdb \\xc...                  b''  \n",
      "\n",
      "[43594 rows x 11 columns]\n"
     ]
    }
   ],
   "source": [
    "print(df_2021)"
   ],
   "metadata": {
    "collapsed": false,
    "pycharm": {
     "name": "#%%\n"
    }
   }
  },
  {
   "cell_type": "code",
   "execution_count": 22,
   "outputs": [
    {
     "name": "stdout",
     "output_type": "stream",
     "text": [
      "     year month day   carId operationDate operationTime  \\\n",
      "0    2022    01  07  SDA026      22-01-07      10:44:34   \n",
      "1    2022    01  07  SDA026      22-01-07      10:44:34   \n",
      "2    2022    01  07  SDA026      22-01-07      10:44:34   \n",
      "3    2022    01  07  SDA026      22-01-07      10:44:34   \n",
      "4    2022    01  07  SDA026      22-01-07      10:44:34   \n",
      "..    ...   ...  ..     ...           ...           ...   \n",
      "347  2022    01  10  SDA026      22-01-10      14:34:54   \n",
      "348  2022    01  10  SDA026      22-01-10      14:34:54   \n",
      "349  2022    01  10  SDA026      22-01-10      14:34:54   \n",
      "350  2022    01  10  SDA026      22-01-10      14:35:00   \n",
      "351  2022    01  10  SDA026      22-01-10      14:35:03   \n",
      "\n",
      "        operationTotalTime  time  code  \\\n",
      "0    22-01-07 10:44:34:018  0.00   HV3   \n",
      "1    22-01-07 10:44:34:018  0.00   HV4   \n",
      "2    22-01-07 10:44:34:018  0.00   HV5   \n",
      "3    22-01-07 10:44:34:018  0.00  HB46   \n",
      "4    22-01-07 10:44:34:018  0.00  HB37   \n",
      "..                     ...   ...   ...   \n",
      "347  22-01-10 14:34:54:376  0.35   HV3   \n",
      "348  22-01-10 14:34:54:376  0.35   HV4   \n",
      "349  22-01-10 14:34:54:376  0.35   HV5   \n",
      "350  22-01-10 14:35:00:774  6.75  HC23   \n",
      "351  22-01-10 14:35:03:318  9.30  HB23   \n",
      "\n",
      "                                               message  \\\n",
      "0    b'\\xb0\\xf8\\xc1\\xb6\\xc0\\xe5\\xc4\\xa1 \\xb3\\xc3\\xb...   \n",
      "1    b'\\xb0\\xf8\\xc1\\xb6\\xc0\\xe5\\xc4\\xa1 \\xbc\\xdb\\xc...   \n",
      "2    b'\\xb0\\xf8\\xc1\\xb6\\xc0\\xe5\\xc4\\xa1 \\xb3\\xad\\xb...   \n",
      "3    b'\\xb0\\xfa\\xba\\xce\\xc7\\xcf\\xc2\\xf7\\xb4\\xdc-\\xc...   \n",
      "4         b'\\xbd\\xc7\\xb3\\xbb\\xb5\\xee \\xc0\\xfc\\xbf\\xf8'   \n",
      "..                                                 ...   \n",
      "347  b'\\xb0\\xf8\\xc1\\xb6\\xc0\\xe5\\xc4\\xa1 \\xb3\\xc3\\xb...   \n",
      "348  b'\\xb0\\xf8\\xc1\\xb6\\xc0\\xe5\\xc4\\xa1 \\xbc\\xdb\\xc...   \n",
      "349  b'\\xb0\\xf8\\xc1\\xb6\\xc0\\xe5\\xc4\\xa1 \\xb3\\xad\\xb...   \n",
      "350  b'\\xba\\xaf\\xbc\\xd3\\xb8\\xf0\\xb5\\xe5 \\xbc\\xb3\\xc...   \n",
      "351  b'\\xc0\\xfc\\xbe\\xd0\\xc1\\xb6\\xc1\\xa4\\xb1\\xe2 \\xc...   \n",
      "\n",
      "                           state  \n",
      "0    b'\\xb9\\xcc\\xc0\\xdb\\xb5\\xbf'  \n",
      "1    b'\\xb9\\xcc\\xc0\\xdb\\xb5\\xbf'  \n",
      "2    b'\\xb9\\xcc\\xc0\\xdb\\xb5\\xbf'  \n",
      "3            b'\\xc1\\xa4\\xbb\\xf3'  \n",
      "4                          b'On'  \n",
      "..                           ...  \n",
      "347  b'\\xb9\\xcc\\xc0\\xdb\\xb5\\xbf'  \n",
      "348  b'\\xb9\\xcc\\xc0\\xdb\\xb5\\xbf'  \n",
      "349  b'\\xb9\\xcc\\xc0\\xdb\\xb5\\xbf'  \n",
      "350          b'\\xc0\\xcf\\xb9\\xdd'  \n",
      "351                        b'On'  \n",
      "\n",
      "[352 rows x 11 columns]\n"
     ]
    }
   ],
   "source": [
    "print(df_2022)"
   ],
   "metadata": {
    "collapsed": false,
    "pycharm": {
     "name": "#%%\n"
    }
   }
  },
  {
   "cell_type": "code",
   "execution_count": 23,
   "outputs": [],
   "source": [
    "df_2020_edit = df_2020[df_2020.month != '00']"
   ],
   "metadata": {
    "collapsed": false,
    "pycharm": {
     "name": "#%%\n"
    }
   }
  },
  {
   "cell_type": "code",
   "execution_count": 24,
   "outputs": [
    {
     "name": "stdout",
     "output_type": "stream",
     "text": [
      "        year month day   carId operationDate operationTime  \\\n",
      "22263   2020    01  03  SDA026      20-01-03      11:28:37   \n",
      "22264   2020    01  03  SDA026      20-01-03      11:28:37   \n",
      "22265   2020    01  03  SDA026      20-01-03      11:28:37   \n",
      "22266   2020    01  03  SDA026      20-01-03      11:28:37   \n",
      "22267   2020    01  03  SDA026      20-01-03      11:28:37   \n",
      "...      ...   ...  ..     ...           ...           ...   \n",
      "201989  2020    12  31  SDA026      20-12-31      14:04:15   \n",
      "201990  2020    12  31  SDA026      20-12-31      14:04:15   \n",
      "201991  2020    12  31  SDA026      20-12-31      14:04:15   \n",
      "201992  2020    12  31  SDA026      20-12-31      14:04:15   \n",
      "201993  2020    12  31  SDA026      20-12-31      14:04:15   \n",
      "\n",
      "           operationTotalTime  time  code  \\\n",
      "22263   20-01-03 11:28:37:008   0.0  HB46   \n",
      "22264   20-01-03 11:28:37:008   0.0  HB37   \n",
      "22265   20-01-03 11:28:37:008   0.0  HB26   \n",
      "22266   20-01-03 11:28:37:008   0.0  HB25   \n",
      "22267   20-01-03 11:28:37:008   0.0  HB24   \n",
      "...                       ...   ...   ...   \n",
      "201989  20-12-31 14:04:15:411  14.4   HC6   \n",
      "201990  20-12-31 14:04:15:411  14.4   HC5   \n",
      "201991  20-12-31 14:04:15:411  14.4   HC4   \n",
      "201992  20-12-31 14:04:15:411  14.4   HC3   \n",
      "201993  20-12-31 14:04:15:411  14.4   HC7   \n",
      "\n",
      "                                                  message                state  \n",
      "22263   b'\\xb0\\xfa\\xba\\xce\\xc7\\xcf\\xc2\\xf7\\xb4\\xdc-\\xc...  b'\\xc1\\xa4\\xbb\\xf3'  \n",
      "22264        b'\\xbd\\xc7\\xb3\\xbb\\xb5\\xee \\xc0\\xfc\\xbf\\xf8'                b'On'  \n",
      "22265   b'\\xb5\\xbf\\xb7\\xc2\\xc0\\xfc\\xb4\\xde\\xc1\\xa6\\xbe...                b'On'  \n",
      "22266   b'\\xc2\\xf7\\xc3\\xbc\\xc1\\xa6\\xbe\\xee\\xc0\\xfc\\xbd...                b'On'  \n",
      "22267   b'\\xbc\\xf6\\xbb\\xf3\\xc3\\xdf\\xc1\\xf8\\xc1\\xb6\\xc1...                b'On'  \n",
      "...                                                   ...                  ...  \n",
      "201989  b'\\xb0\\xe6\\xb0\\xed\\xc0\\xbd\\xc2\\xf7\\xb4\\xdc(\\xb...               b'Off'  \n",
      "201990  b'\\xb0\\xe6\\xb0\\xed\\xc0\\xbd\\xc2\\xf7\\xb4\\xdc(\\xc...                b'On'  \n",
      "201991  b'\\xb0\\xe6\\xb0\\xed\\xc0\\xbd\\xc2\\xf7\\xb4\\xdc(\\xc...                b'On'  \n",
      "201992  b'\\xb0\\xe6\\xb0\\xed\\xc0\\xbd\\xc2\\xf7\\xb4\\xdc(\\xc...                b'On'  \n",
      "201993  b'\\xba\\xce\\xc0\\xfa\\xc0\\xbd \\xc3\\xe2\\xb7\\xc2\\xc...                  b''  \n",
      "\n",
      "[179731 rows x 11 columns]\n"
     ]
    }
   ],
   "source": [
    "print(df_2020_edit)"
   ],
   "metadata": {
    "collapsed": false,
    "pycharm": {
     "name": "#%%\n"
    }
   }
  },
  {
   "cell_type": "code",
   "execution_count": 25,
   "outputs": [],
   "source": [
    "df_2020_edit.reset_index(drop=True, inplace=True)"
   ],
   "metadata": {
    "collapsed": false,
    "pycharm": {
     "name": "#%%\n"
    }
   }
  },
  {
   "cell_type": "code",
   "execution_count": 26,
   "outputs": [
    {
     "name": "stdout",
     "output_type": "stream",
     "text": [
      "        year month day   carId operationDate operationTime  \\\n",
      "0       2020    01  03  SDA026      20-01-03      11:28:37   \n",
      "1       2020    01  03  SDA026      20-01-03      11:28:37   \n",
      "2       2020    01  03  SDA026      20-01-03      11:28:37   \n",
      "3       2020    01  03  SDA026      20-01-03      11:28:37   \n",
      "4       2020    01  03  SDA026      20-01-03      11:28:37   \n",
      "...      ...   ...  ..     ...           ...           ...   \n",
      "179726  2020    12  31  SDA026      20-12-31      14:04:15   \n",
      "179727  2020    12  31  SDA026      20-12-31      14:04:15   \n",
      "179728  2020    12  31  SDA026      20-12-31      14:04:15   \n",
      "179729  2020    12  31  SDA026      20-12-31      14:04:15   \n",
      "179730  2020    12  31  SDA026      20-12-31      14:04:15   \n",
      "\n",
      "           operationTotalTime  time  code  \\\n",
      "0       20-01-03 11:28:37:008   0.0  HB46   \n",
      "1       20-01-03 11:28:37:008   0.0  HB37   \n",
      "2       20-01-03 11:28:37:008   0.0  HB26   \n",
      "3       20-01-03 11:28:37:008   0.0  HB25   \n",
      "4       20-01-03 11:28:37:008   0.0  HB24   \n",
      "...                       ...   ...   ...   \n",
      "179726  20-12-31 14:04:15:411  14.4   HC6   \n",
      "179727  20-12-31 14:04:15:411  14.4   HC5   \n",
      "179728  20-12-31 14:04:15:411  14.4   HC4   \n",
      "179729  20-12-31 14:04:15:411  14.4   HC3   \n",
      "179730  20-12-31 14:04:15:411  14.4   HC7   \n",
      "\n",
      "                                                  message                state  \n",
      "0       b'\\xb0\\xfa\\xba\\xce\\xc7\\xcf\\xc2\\xf7\\xb4\\xdc-\\xc...  b'\\xc1\\xa4\\xbb\\xf3'  \n",
      "1            b'\\xbd\\xc7\\xb3\\xbb\\xb5\\xee \\xc0\\xfc\\xbf\\xf8'                b'On'  \n",
      "2       b'\\xb5\\xbf\\xb7\\xc2\\xc0\\xfc\\xb4\\xde\\xc1\\xa6\\xbe...                b'On'  \n",
      "3       b'\\xc2\\xf7\\xc3\\xbc\\xc1\\xa6\\xbe\\xee\\xc0\\xfc\\xbd...                b'On'  \n",
      "4       b'\\xbc\\xf6\\xbb\\xf3\\xc3\\xdf\\xc1\\xf8\\xc1\\xb6\\xc1...                b'On'  \n",
      "...                                                   ...                  ...  \n",
      "179726  b'\\xb0\\xe6\\xb0\\xed\\xc0\\xbd\\xc2\\xf7\\xb4\\xdc(\\xb...               b'Off'  \n",
      "179727  b'\\xb0\\xe6\\xb0\\xed\\xc0\\xbd\\xc2\\xf7\\xb4\\xdc(\\xc...                b'On'  \n",
      "179728  b'\\xb0\\xe6\\xb0\\xed\\xc0\\xbd\\xc2\\xf7\\xb4\\xdc(\\xc...                b'On'  \n",
      "179729  b'\\xb0\\xe6\\xb0\\xed\\xc0\\xbd\\xc2\\xf7\\xb4\\xdc(\\xc...                b'On'  \n",
      "179730  b'\\xba\\xce\\xc0\\xfa\\xc0\\xbd \\xc3\\xe2\\xb7\\xc2\\xc...                  b''  \n",
      "\n",
      "[179731 rows x 11 columns]\n"
     ]
    }
   ],
   "source": [
    "print(df_2020_edit)"
   ],
   "metadata": {
    "collapsed": false,
    "pycharm": {
     "name": "#%%\n"
    }
   }
  },
  {
   "cell_type": "code",
   "execution_count": 27,
   "outputs": [],
   "source": [
    "parquet_path = 'sensor_data/220110_sensor_data/parquet_data/'\n",
    "\n",
    "df_2020_edit.to_parquet(parquet_path + 'event_data_2020_edited.parquet', compression='gzip')\n",
    "df_2021.to_parquet(parquet_path + 'event_data_2021_edited.parquet', compression='gzip')\n",
    "df_2022.to_parquet(parquet_path + 'event_data_2022_edited.parquet', compression='gzip')"
   ],
   "metadata": {
    "collapsed": false,
    "pycharm": {
     "name": "#%%\n"
    }
   }
  }
 ],
 "metadata": {
  "kernelspec": {
   "display_name": "Python 3",
   "language": "python",
   "name": "python3"
  },
  "language_info": {
   "codemirror_mode": {
    "name": "ipython",
    "version": 2
   },
   "file_extension": ".py",
   "mimetype": "text/x-python",
   "name": "python",
   "nbconvert_exporter": "python",
   "pygments_lexer": "ipython2",
   "version": "2.7.6"
  }
 },
 "nbformat": 4,
 "nbformat_minor": 0
}