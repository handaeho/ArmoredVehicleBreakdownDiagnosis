{
 "cells": [
  {
   "cell_type": "code",
   "execution_count": 1,
   "metadata": {},
   "outputs": [],
   "source": [
    "import os\n",
    "import pandas as pd\n",
    "import matplotlib.pyplot as plt\n",
    "import numpy as np\n",
    "\n",
    "os.chdir('/home/aiteam/daeho/ArmoredVehicleBreakdownDiagnosis')\n",
    "\n",
    "groupBy_path = 'sensor_data/220110_sensor_data/groupBy_data/'\n",
    "\n",
    "parquet_path = 'sensor_data/220110_sensor_data/parquet_data/'\n",
    "\n",
    "parquet_file_name_2020 = 'periodic_data_2020_edited.parquet'\n",
    "parquet_file_name_2021 = 'periodic_data_2021_edited.parquet'"
   ]
  },
  {
   "cell_type": "code",
   "execution_count": 2,
   "metadata": {},
   "outputs": [],
   "source": [
    "# read\n",
    "df_2020_edit = pd.read_parquet(parquet_path + parquet_file_name_2020)\n",
    "df_2021_edit = pd.read_parquet(parquet_path + parquet_file_name_2021)\n",
    "\n",
    "# print(df_2020_edit)\n",
    "# print(df_2021_edit)\n",
    "\n",
    "# grouped 2020\n",
    "day_2020 = df_2020_edit.groupby(['day', 'oilStorageLowPressureFilter'])\n",
    "month_2020 = df_2020_edit.groupby(['month', 'oilStorageLowPressureFilter'])\n",
    "year_2020 = df_2020_edit.groupby(['year', 'oilStorageLowPressureFilter'])\n",
    "\n",
    "# grouped 2021\n",
    "day_2021 = df_2021_edit.groupby(['day', 'oilStorageLowPressureFilter'])\n",
    "month_2021 = df_2021_edit.groupby(['month', 'oilStorageLowPressureFilter'])\n",
    "year_2021 = df_2021_edit.groupby(['year', 'oilStorageLowPressureFilter'])"
   ]
  },
  {
   "cell_type": "code",
   "execution_count": 3,
   "metadata": {},
   "outputs": [],
   "source": [
    "# 횟수 (빈도수)\n",
    "day_count_2020 = pd.DataFrame(day_2020.size())\n",
    "month_count_2020 = pd.DataFrame(month_2020.size())\n",
    "year_count_2020 = pd.DataFrame(year_2020.size())\n",
    "\n",
    "day_count_2021 = pd.DataFrame(day_2021.size())\n",
    "month_count_2021 = pd.DataFrame(month_2021.size())\n",
    "year_count_2021 = pd.DataFrame(year_2021.size())"
   ]
  },
  {
   "cell_type": "code",
   "execution_count": 4,
   "metadata": {},
   "outputs": [],
   "source": [
    "# 일별 횟수 (빈도수)\n",
    "df_day_count = pd.concat([day_count_2020, day_count_2021], axis=1).sort_index()\n",
    "\n",
    "# 월별 횟수 (빈도수)\n",
    "df_month_count = pd.concat([month_count_2020, month_count_2021], axis=1).sort_index()\n",
    "\n",
    "# 연도별 횟수 (빈도수)\n",
    "df_year_count = pd.concat([year_count_2020, year_count_2021], axis=1).sort_index()\n",
    "\n",
    "df_day_count.columns = ['2020_oilStorageLowPressureFilter', '2021_oilStorageLowPressureFilter']\n",
    "df_month_count.columns = ['2020_oilStorageLowPressureFilter', '2021_oilStorageLowPressureFilter']\n",
    "df_year_count.columns = ['2020_oilStorageLowPressureFilter', '2021_oilStorageLowPressureFilter']"
   ]
  },
  {
   "cell_type": "code",
   "execution_count": 5,
   "metadata": {},
   "outputs": [],
   "source": [
    "df_day_count.to_csv(groupBy_path + 'day/' + 'categorical/' + 'df_oilStorageLowPressureFilter_day_count.csv', index=True, encoding='CP949')\n",
    "df_month_count.to_csv(groupBy_path + 'month/' + 'categorical/' + 'df_oilStorageLowPressureFilter_month_count.csv', index=True, encoding='CP949')\n",
    "df_year_count.to_csv(groupBy_path + 'year/' + 'categorical/' + 'df_oilStorageLowPressureFilter_year_count.csv', index=True, encoding='CP949')"
   ]
  },
  {
   "cell_type": "code",
   "execution_count": null,
   "metadata": {},
   "outputs": [],
   "source": []
  }
 ],
 "metadata": {
  "kernelspec": {
   "display_name": "Python 3",
   "language": "python",
   "name": "python3"
  },
  "language_info": {
   "codemirror_mode": {
    "name": "ipython",
    "version": 3
   },
   "file_extension": ".py",
   "mimetype": "text/x-python",
   "name": "python",
   "nbconvert_exporter": "python",
   "pygments_lexer": "ipython3",
   "version": "3.6.8"
  }
 },
 "nbformat": 4,
 "nbformat_minor": 2
}
