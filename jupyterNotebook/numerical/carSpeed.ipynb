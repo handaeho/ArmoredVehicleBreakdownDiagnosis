{
 "cells": [
  {
   "cell_type": "code",
   "execution_count": 1,
   "metadata": {
    "collapsed": true
   },
   "outputs": [],
   "source": [
    "import os\n",
    "import pandas as pd\n",
    "import matplotlib.pyplot as plt\n",
    "import numpy as np"
   ]
  },
  {
   "cell_type": "code",
   "execution_count": 2,
   "outputs": [],
   "source": [
    "os.chdir('/home/aiteam/daeho/ArmoredVehicleBreakdownDiagnosis')"
   ],
   "metadata": {
    "collapsed": false,
    "pycharm": {
     "name": "#%%\n"
    }
   }
  },
  {
   "cell_type": "code",
   "execution_count": 3,
   "outputs": [],
   "source": [
    "parquet_path = 'sensor_data/220110_sensor_data/parquet_data/'\n",
    "\n",
    "parquet_file_name_2020 = 'periodic_data_2020_edited.parquet'\n",
    "parquet_file_name_2021 = 'periodic_data_2021_edited.parquet'"
   ],
   "metadata": {
    "collapsed": false,
    "pycharm": {
     "name": "#%%\n"
    }
   }
  },
  {
   "cell_type": "code",
   "execution_count": 4,
   "outputs": [],
   "source": [
    "# read\n",
    "df_2020_edit = pd.read_parquet(parquet_path + parquet_file_name_2020)\n",
    "df_2021_edit = pd.read_parquet(parquet_path + parquet_file_name_2021)\n",
    "\n",
    "# print(df_2020_edit)\n",
    "# print(df_2021_edit)"
   ],
   "metadata": {
    "collapsed": false,
    "pycharm": {
     "name": "#%%\n"
    }
   }
  },
  {
   "cell_type": "code",
   "execution_count": 5,
   "outputs": [],
   "source": [
    "# 2020\n",
    "carSpeed_day_2020 = df_2020_edit['carSpeed'].groupby(df_2020_edit['day'])\n",
    "carSpeed_month_2020 = df_2020_edit['carSpeed'].groupby(df_2020_edit['month'])\n",
    "carSpeed_year_2020 = df_2020_edit['carSpeed'].groupby(df_2020_edit['year'])\n",
    "\n",
    "# 2021\n",
    "carSpeed_day_2021 = df_2021_edit['carSpeed'].groupby(df_2021_edit['day'])\n",
    "carSpeed_month_2021 = df_2021_edit['carSpeed'].groupby(df_2021_edit['month'])\n",
    "carSpeed_year_2021 = df_2021_edit['carSpeed'].groupby(df_2021_edit['year'])"
   ],
   "metadata": {
    "collapsed": false,
    "pycharm": {
     "name": "#%%\n"
    }
   }
  },
  {
   "cell_type": "code",
   "execution_count": 6,
   "outputs": [],
   "source": [
    "# 평균값\n",
    "carSpeed_day_mean_2020 = pd.DataFrame(carSpeed_day_2020.mean())\n",
    "carSpeed_month_mean_2020 = pd.DataFrame(carSpeed_month_2020.mean())\n",
    "carSpeed_year_mean_2020 = pd.DataFrame(carSpeed_year_2020.mean())\n",
    "\n",
    "carSpeed_day_mean_2021 = pd.DataFrame(carSpeed_day_2021.mean())\n",
    "carSpeed_month_mean_2021 = pd.DataFrame(carSpeed_month_2021.mean())\n",
    "carSpeed_year_mean_2021 = pd.DataFrame(carSpeed_year_2021.mean())"
   ],
   "metadata": {
    "collapsed": false,
    "pycharm": {
     "name": "#%%\n"
    }
   }
  },
  {
   "cell_type": "code",
   "execution_count": 7,
   "outputs": [],
   "source": [
    "# 일별 평균\n",
    "df_carSpeed_day_mean = pd.concat([carSpeed_day_mean_2020, carSpeed_day_mean_2021], axis=1).sort_index()\n",
    "\n",
    "# 월별 평균\n",
    "df_carSpeed_month_mean = pd.concat([carSpeed_month_mean_2020, carSpeed_month_mean_2021], axis=1).sort_index()\n",
    "\n",
    "# 연도별 평균\n",
    "df_carSpeed_year_mean = pd.concat([carSpeed_year_mean_2020, carSpeed_year_mean_2021], axis=1).sort_index()"
   ],
   "metadata": {
    "collapsed": false,
    "pycharm": {
     "name": "#%%\n"
    }
   }
  },
  {
   "cell_type": "code",
   "execution_count": 8,
   "outputs": [],
   "source": [
    "df_carSpeed_day_mean.columns = ['2020_carSpeed', '2021_carSpeed']\n",
    "df_carSpeed_month_mean.columns = ['2020_carSpeed', '2021_carSpeed']\n",
    "df_carSpeed_year_mean.columns = ['2020_carSpeed', '2021_carSpeed']"
   ],
   "metadata": {
    "collapsed": false,
    "pycharm": {
     "name": "#%%\n"
    }
   }
  },
  {
   "cell_type": "code",
   "execution_count": 9,
   "outputs": [],
   "source": [
    "groupBy_path = 'sensor_data/220110_sensor_data/groupBy_data/'"
   ],
   "metadata": {
    "collapsed": false,
    "pycharm": {
     "name": "#%%\n"
    }
   }
  },
  {
   "cell_type": "code",
   "execution_count": 10,
   "outputs": [],
   "source": [
    "df_carSpeed_day_mean.to_csv(groupBy_path + 'day/' + 'df_carSpeed_day_mean.csv', index=True, encoding='CP949')\n",
    "df_carSpeed_month_mean.to_csv(groupBy_path + 'month/' +'df_carSpeed_month_mean.csv', index=True, encoding='CP949')\n",
    "df_carSpeed_year_mean.to_csv(groupBy_path + 'year/' +'df_carSpeed_year_mean.csv', index=True, encoding='CP949')"
   ],
   "metadata": {
    "collapsed": false,
    "pycharm": {
     "name": "#%%\n"
    }
   }
  }
 ],
 "metadata": {
  "kernelspec": {
   "display_name": "Python 3",
   "language": "python",
   "name": "python3"
  },
  "language_info": {
   "codemirror_mode": {
    "name": "ipython",
    "version": 2
   },
   "file_extension": ".py",
   "mimetype": "text/x-python",
   "name": "python",
   "nbconvert_exporter": "python",
   "pygments_lexer": "ipython2",
   "version": "2.7.6"
  }
 },
 "nbformat": 4,
 "nbformat_minor": 0
}